{
 "cells": [
  {
   "cell_type": "markdown",
   "metadata": {},
   "source": [
    "Lab 5 will focus on `Ensembles`. We will apply these methods to a dataset of social media add profiles with limited information: sex, age, and a user-reported salary. We will use these methods to predict whether a user is likely to purchase a product after clicking on an advertisement shown to them.\n",
    "\n",
    "The data file `Social_Network_Ads.csv` contains 5 columns:\n",
    "- **UserID**- Each person has a unique ID..\n",
    "- **Sex**- Male or female. \n",
    "- **Age**- Age of the person.\n",
    "- **EstimatedSalary**- User reported salary.\n",
    "- **Purchased**- ‘0’ if the user did not purchase the product and ‘1’ if they did. This is our target!"
   ]
  },
  {
   "cell_type": "code",
   "execution_count": 1,
   "metadata": {},
   "outputs": [],
   "source": [
    "#Suppress all warnings \n",
    "import warnings\n",
    "warnings.filterwarnings(\"ignore\")"
   ]
  },
  {
   "cell_type": "code",
   "execution_count": 2,
   "metadata": {},
   "outputs": [],
   "source": [
    "#Import packages\n",
    "import numpy as np\n",
    "import matplotlib.pyplot as plt\n",
    "import pandas as pd\n",
    "from sklearn.model_selection import train_test_split\n",
    "from sklearn.preprocessing import MinMaxScaler\n",
    "from sklearn.linear_model import LogisticRegression \n",
    "from sklearn.metrics import accuracy_score, roc_curve, roc_auc_score, auc\n",
    "from sklearn.metrics import confusion_matrix\n",
    "from sklearn.metrics import roc_auc_score\n",
    "from sklearn.model_selection import GridSearchCV\n",
    "from sklearn.tree import DecisionTreeClassifier\n",
    "from sklearn.ensemble import RandomForestClassifier\n",
    "from sklearn.ensemble import AdaBoostClassifier\n",
    "from sklearn.ensemble import GradientBoostingClassifier\n",
    "from mlxtend.classifier import EnsembleVoteClassifier\n",
    "from sklearn.svm import SVC"
   ]
  },
  {
   "cell_type": "code",
   "execution_count": 3,
   "metadata": {
    "scrolled": true
   },
   "outputs": [
    {
     "data": {
      "text/html": [
       "<div>\n",
       "<style scoped>\n",
       "    .dataframe tbody tr th:only-of-type {\n",
       "        vertical-align: middle;\n",
       "    }\n",
       "\n",
       "    .dataframe tbody tr th {\n",
       "        vertical-align: top;\n",
       "    }\n",
       "\n",
       "    .dataframe thead th {\n",
       "        text-align: right;\n",
       "    }\n",
       "</style>\n",
       "<table border=\"1\" class=\"dataframe\">\n",
       "  <thead>\n",
       "    <tr style=\"text-align: right;\">\n",
       "      <th></th>\n",
       "      <th>User ID</th>\n",
       "      <th>Sex</th>\n",
       "      <th>Age</th>\n",
       "      <th>EstimatedSalary</th>\n",
       "      <th>Purchased</th>\n",
       "    </tr>\n",
       "  </thead>\n",
       "  <tbody>\n",
       "    <tr>\n",
       "      <th>0</th>\n",
       "      <td>15624510</td>\n",
       "      <td>Male</td>\n",
       "      <td>19</td>\n",
       "      <td>19000</td>\n",
       "      <td>0</td>\n",
       "    </tr>\n",
       "    <tr>\n",
       "      <th>1</th>\n",
       "      <td>15810944</td>\n",
       "      <td>Male</td>\n",
       "      <td>35</td>\n",
       "      <td>20000</td>\n",
       "      <td>0</td>\n",
       "    </tr>\n",
       "    <tr>\n",
       "      <th>2</th>\n",
       "      <td>15668575</td>\n",
       "      <td>Female</td>\n",
       "      <td>26</td>\n",
       "      <td>43000</td>\n",
       "      <td>0</td>\n",
       "    </tr>\n",
       "    <tr>\n",
       "      <th>3</th>\n",
       "      <td>15603246</td>\n",
       "      <td>Female</td>\n",
       "      <td>27</td>\n",
       "      <td>57000</td>\n",
       "      <td>0</td>\n",
       "    </tr>\n",
       "    <tr>\n",
       "      <th>4</th>\n",
       "      <td>15804002</td>\n",
       "      <td>Male</td>\n",
       "      <td>19</td>\n",
       "      <td>76000</td>\n",
       "      <td>0</td>\n",
       "    </tr>\n",
       "  </tbody>\n",
       "</table>\n",
       "</div>"
      ],
      "text/plain": [
       "    User ID     Sex  Age  EstimatedSalary  Purchased\n",
       "0  15624510    Male   19            19000          0\n",
       "1  15810944    Male   35            20000          0\n",
       "2  15668575  Female   26            43000          0\n",
       "3  15603246  Female   27            57000          0\n",
       "4  15804002    Male   19            76000          0"
      ]
     },
     "execution_count": 3,
     "metadata": {},
     "output_type": "execute_result"
    }
   ],
   "source": [
    "# Load the dataset\n",
    "data = pd.read_csv('Social_Network_Ads.csv')\n",
    "data.head()"
   ]
  },
  {
   "cell_type": "code",
   "execution_count": 4,
   "metadata": {},
   "outputs": [
    {
     "name": "stdout",
     "output_type": "stream",
     "text": [
      "<class 'pandas.core.frame.DataFrame'>\n",
      "RangeIndex: 400 entries, 0 to 399\n",
      "Data columns (total 5 columns):\n",
      " #   Column           Non-Null Count  Dtype \n",
      "---  ------           --------------  ----- \n",
      " 0   User ID          400 non-null    int64 \n",
      " 1   Sex              400 non-null    object\n",
      " 2   Age              400 non-null    int64 \n",
      " 3   EstimatedSalary  400 non-null    int64 \n",
      " 4   Purchased        400 non-null    int64 \n",
      "dtypes: int64(4), object(1)\n",
      "memory usage: 15.8+ KB\n",
      "None\n"
     ]
    },
    {
     "data": {
      "text/html": [
       "<div>\n",
       "<style scoped>\n",
       "    .dataframe tbody tr th:only-of-type {\n",
       "        vertical-align: middle;\n",
       "    }\n",
       "\n",
       "    .dataframe tbody tr th {\n",
       "        vertical-align: top;\n",
       "    }\n",
       "\n",
       "    .dataframe thead th {\n",
       "        text-align: right;\n",
       "    }\n",
       "</style>\n",
       "<table border=\"1\" class=\"dataframe\">\n",
       "  <thead>\n",
       "    <tr style=\"text-align: right;\">\n",
       "      <th></th>\n",
       "      <th>User ID</th>\n",
       "      <th>Age</th>\n",
       "      <th>EstimatedSalary</th>\n",
       "      <th>Purchased</th>\n",
       "    </tr>\n",
       "  </thead>\n",
       "  <tbody>\n",
       "    <tr>\n",
       "      <th>count</th>\n",
       "      <td>4.000000e+02</td>\n",
       "      <td>400.000000</td>\n",
       "      <td>400.000000</td>\n",
       "      <td>400.000000</td>\n",
       "    </tr>\n",
       "    <tr>\n",
       "      <th>mean</th>\n",
       "      <td>1.569154e+07</td>\n",
       "      <td>37.655000</td>\n",
       "      <td>69742.500000</td>\n",
       "      <td>0.357500</td>\n",
       "    </tr>\n",
       "    <tr>\n",
       "      <th>std</th>\n",
       "      <td>7.165832e+04</td>\n",
       "      <td>10.482877</td>\n",
       "      <td>34096.960282</td>\n",
       "      <td>0.479864</td>\n",
       "    </tr>\n",
       "    <tr>\n",
       "      <th>min</th>\n",
       "      <td>1.556669e+07</td>\n",
       "      <td>18.000000</td>\n",
       "      <td>15000.000000</td>\n",
       "      <td>0.000000</td>\n",
       "    </tr>\n",
       "    <tr>\n",
       "      <th>25%</th>\n",
       "      <td>1.562676e+07</td>\n",
       "      <td>29.750000</td>\n",
       "      <td>43000.000000</td>\n",
       "      <td>0.000000</td>\n",
       "    </tr>\n",
       "    <tr>\n",
       "      <th>50%</th>\n",
       "      <td>1.569434e+07</td>\n",
       "      <td>37.000000</td>\n",
       "      <td>70000.000000</td>\n",
       "      <td>0.000000</td>\n",
       "    </tr>\n",
       "    <tr>\n",
       "      <th>75%</th>\n",
       "      <td>1.575036e+07</td>\n",
       "      <td>46.000000</td>\n",
       "      <td>88000.000000</td>\n",
       "      <td>1.000000</td>\n",
       "    </tr>\n",
       "    <tr>\n",
       "      <th>max</th>\n",
       "      <td>1.581524e+07</td>\n",
       "      <td>60.000000</td>\n",
       "      <td>150000.000000</td>\n",
       "      <td>1.000000</td>\n",
       "    </tr>\n",
       "  </tbody>\n",
       "</table>\n",
       "</div>"
      ],
      "text/plain": [
       "            User ID         Age  EstimatedSalary   Purchased\n",
       "count  4.000000e+02  400.000000       400.000000  400.000000\n",
       "mean   1.569154e+07   37.655000     69742.500000    0.357500\n",
       "std    7.165832e+04   10.482877     34096.960282    0.479864\n",
       "min    1.556669e+07   18.000000     15000.000000    0.000000\n",
       "25%    1.562676e+07   29.750000     43000.000000    0.000000\n",
       "50%    1.569434e+07   37.000000     70000.000000    0.000000\n",
       "75%    1.575036e+07   46.000000     88000.000000    1.000000\n",
       "max    1.581524e+07   60.000000    150000.000000    1.000000"
      ]
     },
     "execution_count": 4,
     "metadata": {},
     "output_type": "execute_result"
    }
   ],
   "source": [
    "#Info and description\n",
    "print(data.info())\n",
    "data.describe()"
   ]
  },
  {
   "cell_type": "code",
   "execution_count": 5,
   "metadata": {},
   "outputs": [],
   "source": [
    "#Convert male/female to 0/1\n",
    "data.Sex = data.Sex.replace({'Male':0,'Female':1})\n",
    "\n",
    "# Split the data into target and features\n",
    "X = data.drop(['User ID','Purchased'],axis=1)\n",
    "y = data.Purchased"
   ]
  },
  {
   "cell_type": "code",
   "execution_count": 6,
   "metadata": {},
   "outputs": [],
   "source": [
    "# Split the dataset into the Training set and Test set\n",
    "X_train, X_test, y_train, y_test = train_test_split(X, y, test_size = 0.30, random_state = 21)"
   ]
  },
  {
   "cell_type": "code",
   "execution_count": 7,
   "metadata": {},
   "outputs": [],
   "source": [
    "# Feature Scaling\n",
    "sc = MinMaxScaler()\n",
    "X_train = sc.fit_transform(X_train)\n",
    "X_test = sc.transform(X_test)"
   ]
  },
  {
   "cell_type": "markdown",
   "metadata": {},
   "source": [
    "## Ensembles\n",
    "\n",
    "In this section, we will five different models and combine them into a custom ensemble."
   ]
  },
  {
   "cell_type": "code",
   "execution_count": 8,
   "metadata": {},
   "outputs": [
    {
     "name": "stdout",
     "output_type": "stream",
     "text": [
      "\n",
      " AUC of Logistic Regression on test data: 0.939\n"
     ]
    }
   ],
   "source": [
    "#Logistic Regression\n",
    "\n",
    "LogReg = LogisticRegression(C=1, penalty='l1', solver='liblinear', max_iter=100000, random_state = 21)\n",
    "LogReg.fit(X_train, y_train)\n",
    "y_predLogReg = LogReg.predict_proba(X_test).T[1]\n",
    "LogReg_score= roc_auc_score(y_test,y_predLogReg)\n",
    "\n",
    "print('\\n AUC of Logistic Regression on test data: {}'.format(round(LogReg_score,3)))"
   ]
  },
  {
   "cell_type": "code",
   "execution_count": 9,
   "metadata": {},
   "outputs": [
    {
     "name": "stdout",
     "output_type": "stream",
     "text": [
      "AUC of CART on test data is 0.937\n"
     ]
    }
   ],
   "source": [
    "#CART\n",
    "\n",
    "cart = DecisionTreeClassifier(max_depth=5, random_state=14)\n",
    "cart.fit(X_train, y_train)\n",
    "y_predCart = cart.predict_proba(X_test).T[1]\n",
    "cart_score= roc_auc_score(y_test,y_predCart)  \n",
    "\n",
    "print('AUC of CART on test data is {}'.format(round(cart_score,3)))"
   ]
  },
  {
   "cell_type": "code",
   "execution_count": 10,
   "metadata": {
    "scrolled": true
   },
   "outputs": [
    {
     "name": "stdout",
     "output_type": "stream",
     "text": [
      "AUC of Random Forest on test data is 0.959\n"
     ]
    }
   ],
   "source": [
    "#Random Forest\n",
    "\n",
    "rf = RandomForestClassifier(max_depth = 5, n_estimators = 100, max_features = 0.1,random_state = 21)\n",
    "rf.fit(X_train, y_train)\n",
    "y_predRf = rf.predict_proba(X_test).T[1]\n",
    "rf_score= roc_auc_score(y_test,y_predRf) \n",
    "\n",
    "print('AUC of Random Forest on test data is {}'.format(round(rf_score, 3)))"
   ]
  },
  {
   "cell_type": "markdown",
   "metadata": {},
   "source": [
    "`AdaBoost` is a popular type of boosting algorithm. The most important parameters are `base_estimator`, `n_estimators`, and `learning_rate`. Different base learners can be used such as CART and SVMs. See [here](https://scikit-learn.org/stable/modules/generated/sklearn.ensemble.AdaBoostClassifier.html) for more information"
   ]
  },
  {
   "cell_type": "code",
   "execution_count": 11,
   "metadata": {},
   "outputs": [
    {
     "name": "stdout",
     "output_type": "stream",
     "text": [
      "AUC of AdaBoosting Classifier on test data is 0.967\n"
     ]
    }
   ],
   "source": [
    "#AdaBoost Classifier\n",
    "\n",
    "abc = AdaBoostClassifier(n_estimators=100,learning_rate=1)\n",
    "abc.fit(X_train, y_train)\n",
    "y_predAbc = abc.predict_proba(X_test).T[1]\n",
    "abc_score = roc_auc_score(y_test,y_predAbc)\n",
    "\n",
    "print('AUC of AdaBoosting Classifier on test data is {}'.format(round(abc_score, 3)))"
   ]
  },
  {
   "cell_type": "markdown",
   "metadata": {},
   "source": [
    "`Gradient boosting` is another popular type of boosting alogorithm. See [here](https://scikit-learn.org/stable/modules/generated/sklearn.ensemble.GradientBoostingClassifier.html) for more information. "
   ]
  },
  {
   "cell_type": "code",
   "execution_count": 12,
   "metadata": {},
   "outputs": [
    {
     "name": "stdout",
     "output_type": "stream",
     "text": [
      "AUC of Gradient Boosting Classifier on test data is 0.969\n"
     ]
    }
   ],
   "source": [
    "#Gradient Boosting Classifier\n",
    "\n",
    "gbc = GradientBoostingClassifier(n_estimators=100, learning_rate=1, max_depth=1, random_state=0)\n",
    "gbc.fit(X_train, y_train)\n",
    "y_predGbc = gbc.predict_proba(X_test).T[1]\n",
    "gbc_score = roc_auc_score(y_test,y_predGbc)   \n",
    "\n",
    "print('AUC of Gradient Boosting Classifier on test data is {}'.format(round(gbc_score, 3)))"
   ]
  },
  {
   "cell_type": "markdown",
   "metadata": {},
   "source": [
    "> Manually change the hyperparameters in the above models and see if you can find better combinations!"
   ]
  },
  {
   "cell_type": "markdown",
   "metadata": {},
   "source": [
    "Now we will create our own ensemble model by combining all five of the above models. We will create two versions: one where each model is weighted equally and another where each model is weighted by performance. To do this, we use `EnsembleVoteClassifier`. See [here](http://rasbt.github.io/mlxtend/user_guide/classifier/EnsembleVoteClassifier/) for more information.\n",
    "\n",
    "There is also a custom ensemble tool in sklearn, named as `VotingClassifier`. See [here](https://scikit-learn.org/stable/modules/generated/sklearn.ensemble.VotingClassifier.html) for more information. "
   ]
  },
  {
   "cell_type": "code",
   "execution_count": 13,
   "metadata": {},
   "outputs": [
    {
     "name": "stdout",
     "output_type": "stream",
     "text": [
      "AUC of our custom ensemble on test data is 0.97\n"
     ]
    }
   ],
   "source": [
    "#Custom ensemble with equal weights\n",
    "\n",
    "eclf1 = EnsembleVoteClassifier(clfs=[LogReg, cart, rf, abc, gbc], weights=[1,1,1,1,1],voting='soft')\n",
    "eclf1.fit(X_train,y_train)\n",
    "y_predEns1 = eclf1.predict_proba(X_test).T[1]\n",
    "Ens_score1 = roc_auc_score(y_test,y_predEns1)   \n",
    "\n",
    "print('AUC of our custom ensemble on test data is {}'.format(round(Ens_score1, 3)))"
   ]
  },
  {
   "cell_type": "code",
   "execution_count": 14,
   "metadata": {},
   "outputs": [
    {
     "name": "stdout",
     "output_type": "stream",
     "text": [
      "AUC of our custom ensemble on test data is 0.97\n"
     ]
    }
   ],
   "source": [
    "#Custom ensemble with accuracy-based weights\n",
    "\n",
    "eclf2 = EnsembleVoteClassifier(clfs=[LogReg, cart, rf, abc, gbc], weights=[LogReg_score,cart_score,rf_score,abc_score,gbc_score],voting='soft')\n",
    "eclf2.fit(X_train,y_train)\n",
    "y_predEns2 = eclf2.predict_proba(X_test).T[1]\n",
    "Ens_score2 = roc_auc_score(y_test,y_predEns2)   \n",
    "\n",
    "print('AUC of our custom ensemble on test data is {}'.format(round(Ens_score2, 3)))"
   ]
  },
  {
   "cell_type": "code",
   "execution_count": 15,
   "metadata": {},
   "outputs": [
    {
     "name": "stdout",
     "output_type": "stream",
     "text": [
      "AUC of our custom ensemble on test data is 0.97\n"
     ]
    }
   ],
   "source": [
    "#Custom ensemble with custom weights\n",
    "\n",
    "#Pick your own custom weights!\n",
    "weights = [1,1,1,1,1]\n",
    "\n",
    "eclf2 = EnsembleVoteClassifier(clfs=[LogReg, cart, rf, abc, gbc], weights=weights,voting='soft')\n",
    "eclf2.fit(X_train,y_train)\n",
    "y_predEns2 = eclf2.predict_proba(X_test).T[1]\n",
    "Ens_score2 = roc_auc_score(y_test,y_predEns2)   \n",
    "\n",
    "print('AUC of our custom ensemble on test data is {}'.format(round(Ens_score2, 3)))"
   ]
  },
  {
   "cell_type": "markdown",
   "metadata": {},
   "source": [
    "Let's visualize the `ROC curves` of the different models"
   ]
  },
  {
   "cell_type": "code",
   "execution_count": 16,
   "metadata": {},
   "outputs": [
    {
     "ename": "NameError",
     "evalue": "name 'fprSvc' is not defined",
     "output_type": "error",
     "traceback": [
      "\u001b[1;31m---------------------------------------------------------------------------\u001b[0m",
      "\u001b[1;31mNameError\u001b[0m                                 Traceback (most recent call last)",
      "\u001b[1;32m~\\AppData\\Local\\Temp\\ipykernel_13428\\2138651385.py\u001b[0m in \u001b[0;36m<module>\u001b[1;34m\u001b[0m\n\u001b[0;32m     44\u001b[0m \u001b[0mplt\u001b[0m\u001b[1;33m.\u001b[0m\u001b[0mplot\u001b[0m\u001b[1;33m(\u001b[0m\u001b[0mfprAbc\u001b[0m\u001b[1;33m,\u001b[0m \u001b[0mtprAbc\u001b[0m\u001b[1;33m,\u001b[0m \u001b[0mlabel\u001b[0m\u001b[1;33m=\u001b[0m\u001b[1;34m'AdaBoosting (AUC = %0.2f)'\u001b[0m \u001b[1;33m%\u001b[0m \u001b[0mroc_auc_abc\u001b[0m\u001b[1;33m)\u001b[0m\u001b[1;33m\u001b[0m\u001b[1;33m\u001b[0m\u001b[0m\n\u001b[0;32m     45\u001b[0m \u001b[0mplt\u001b[0m\u001b[1;33m.\u001b[0m\u001b[0mplot\u001b[0m\u001b[1;33m(\u001b[0m\u001b[0mfprEnsemble\u001b[0m\u001b[1;33m,\u001b[0m \u001b[0mtprEnsemble\u001b[0m\u001b[1;33m,\u001b[0m \u001b[0mlabel\u001b[0m\u001b[1;33m=\u001b[0m\u001b[1;34m'Ensemble (AUC = %0.2f)'\u001b[0m \u001b[1;33m%\u001b[0m \u001b[0mroc_auc_ensemble\u001b[0m\u001b[1;33m)\u001b[0m\u001b[1;33m\u001b[0m\u001b[1;33m\u001b[0m\u001b[0m\n\u001b[1;32m---> 46\u001b[1;33m \u001b[0mplt\u001b[0m\u001b[1;33m.\u001b[0m\u001b[0mplot\u001b[0m\u001b[1;33m(\u001b[0m\u001b[0mfprSvc\u001b[0m\u001b[1;33m,\u001b[0m \u001b[0mtprSvc\u001b[0m\u001b[1;33m,\u001b[0m \u001b[0mlabel\u001b[0m\u001b[1;33m=\u001b[0m\u001b[1;34m'SVC (AUC = %0.2f)'\u001b[0m \u001b[1;33m%\u001b[0m \u001b[0mroc_auc_svc\u001b[0m\u001b[1;33m)\u001b[0m\u001b[1;33m\u001b[0m\u001b[1;33m\u001b[0m\u001b[0m\n\u001b[0m\u001b[0;32m     47\u001b[0m \u001b[1;33m\u001b[0m\u001b[0m\n\u001b[0;32m     48\u001b[0m \u001b[0mplt\u001b[0m\u001b[1;33m.\u001b[0m\u001b[0mxlim\u001b[0m\u001b[1;33m(\u001b[0m\u001b[1;33m[\u001b[0m\u001b[1;36m0.0\u001b[0m\u001b[1;33m,\u001b[0m \u001b[1;36m1.0\u001b[0m\u001b[1;33m]\u001b[0m\u001b[1;33m)\u001b[0m\u001b[1;33m\u001b[0m\u001b[1;33m\u001b[0m\u001b[0m\n",
      "\u001b[1;31mNameError\u001b[0m: name 'fprSvc' is not defined"
     ]
    },
    {
     "data": {
      "image/png": "[encoded data removed]",
      "text/plain": [
       "<Figure size 1000x600 with 1 Axes>"
      ]
     },
     "metadata": {},
     "output_type": "display_data"
    }
   ],
   "source": [
    "from sklearn.metrics import accuracy_score, roc_curve, roc_auc_score, auc\n",
    "\n",
    "#for Logistic Regression\n",
    "LogRegPred = LogReg.predict_proba(X_test).T[1]\n",
    "fprLogReg, tprLogReg, threshLogReg = roc_curve(y_test, LogRegPred)\n",
    "roc_auc_LogReg= roc_auc_score(y_test, LogRegPred)\n",
    "\n",
    "#for CART\n",
    "cartPred = cart.predict_proba(X_test).T[1]\n",
    "fprCart, tprCart, threshCart = roc_curve(y_test, cartPred)\n",
    "roc_auc_cart= roc_auc_score(y_test, cartPred)\n",
    "\n",
    "#for Random Forest\n",
    "rfPred = rf.predict_proba(X_test).T[1]\n",
    "fprRf, tprRf, threshRf = roc_curve(y_test, rfPred)\n",
    "roc_auc_rf= roc_auc_score(y_test, rfPred)\n",
    "\n",
    "#for GBC\n",
    "gbcPred = gbc.predict_proba(X_test).T[1]\n",
    "fprGbc, tprGbc, threshGbc = roc_curve(y_test, gbcPred)\n",
    "roc_auc_gbc= roc_auc_score(y_test, gbcPred)\n",
    "\n",
    "#for AdaBoosting\n",
    "abcPred = abc.predict_proba(X_test).T[1]\n",
    "fprAbc, tprAbc, threshAbc = roc_curve(y_test, abcPred)\n",
    "roc_auc_abc= roc_auc_score(y_test, abcPred)\n",
    "\n",
    "#for Ensemble \n",
    "ensemblePred = eclf2.fit(X_train,y_train).predict_proba(X_test)\n",
    "fprEnsemble, tprEnsemble, threshEnsemble = roc_curve(y_test, ensemblePred[:, 1])\n",
    "roc_auc_ensemble = auc(fprEnsemble, tprEnsemble)\n",
    "\n",
    "\n",
    "\n",
    "# Plotting ROC curve\n",
    "\n",
    "fig = plt.figure(figsize=(10, 6))\n",
    "plt.plot([0, 1], [0, 1], linestyle='--')\n",
    "\n",
    "plt.plot(fprLogReg, tprLogReg, label='Logistic Regression (AUC = %0.2f)' % roc_auc_LogReg)\n",
    "plt.plot(fprCart, tprCart, label='CART (AUC = %0.2f)' % roc_auc_cart)\n",
    "plt.plot(fprRf, tprRf, label='Random Forest (AUC = %0.2f)' % roc_auc_rf)\n",
    "plt.plot(fprGbc, tprGbc, label='GradientBoosting (AUC = %0.2f)' % roc_auc_gbc)\n",
    "plt.plot(fprAbc, tprAbc, label='AdaBoosting (AUC = %0.2f)' % roc_auc_abc)\n",
    "plt.plot(fprEnsemble, tprEnsemble, label='Ensemble (AUC = %0.2f)' % roc_auc_ensemble)\n",
    "plt.plot(fprSvc, tprSvc, label='SVC (AUC = %0.2f)' % roc_auc_svc)  \n",
    "\n",
    "plt.xlim([0.0, 1.0])\n",
    "plt.ylim([0.0, 1.0])\n",
    "plt.title('ROC Comparison of Different Models ', fontsize = 15)\n",
    "plt.xlabel('False Positive Rate')\n",
    "plt.ylabel('True Positive Rate')\n",
    "plt.legend(loc='lower right');\n",
    "plt.show()\n",
    "\n",
    "#fig.savefig('ROCcomparison.pdf', bbox_inches='tight')\n"
   ]
  },
  {
   "cell_type": "markdown",
   "metadata": {},
   "source": [
    "## Comparing all the models \n",
    "\n",
    "This last code block provides a framework to train, test, and compare many different models at the same time."
   ]
  },
  {
   "cell_type": "code",
   "execution_count": null,
   "metadata": {},
   "outputs": [],
   "source": [
    "class EstimatorSelectionHelper:\n",
    "\n",
    "    def __init__(self, models, params):\n",
    "        if not set(models.keys()).issubset(set(params.keys())):\n",
    "            missing_params = list(set(models.keys()) - set(params.keys()))\n",
    "            raise ValueError(\"Some estimators are missing parameters: %s\" % missing_params)\n",
    "        self.models = models\n",
    "        self.params = params\n",
    "        self.keys = models.keys()\n",
    "        self.grid_searches = {}\n",
    "\n",
    "    def fit(self, X, y, cv=3, n_jobs=1, verbose=1, scoring=None, refit=False):\n",
    "        for key in self.keys:\n",
    "            print(\"Running GridSearchCV for %s.\" % key)\n",
    "            model = self.models[key]\n",
    "            params = self.params[key]\n",
    "            gs = GridSearchCV(model, params, cv=cv, n_jobs=n_jobs,\n",
    "                              verbose=verbose, scoring=scoring, refit=refit,\n",
    "                              return_train_score=True)\n",
    "            gs.fit(X,y)\n",
    "            self.grid_searches[key] = gs    \n",
    "\n",
    "    def score_summary(self, sort_by='mean_score'):\n",
    "        def row(key, scores, params):\n",
    "            d = {\n",
    "                 'estimator': key,\n",
    "                 'min_score': min(scores),\n",
    "                 'max_score': max(scores),\n",
    "                 'mean_score': np.mean(scores),\n",
    "                 'std_score': np.std(scores),\n",
    "            }\n",
    "            return pd.Series({**params,**d})\n",
    "\n",
    "        rows = []\n",
    "        for k in self.grid_searches:\n",
    "            print(k)\n",
    "            params = self.grid_searches[k].cv_results_['params']\n",
    "            scores = []\n",
    "            for i in range(self.grid_searches[k].cv):\n",
    "                key = \"split{}_test_score\".format(i)\n",
    "                r = self.grid_searches[k].cv_results_[key]        \n",
    "                scores.append(r.reshape(len(params),1))\n",
    "\n",
    "            all_scores = np.hstack(scores)\n",
    "            for p, s in zip(params,all_scores):\n",
    "                rows.append((row(k, s, p)))\n",
    "\n",
    "        df = pd.concat(rows, axis=1).T.sort_values([sort_by], ascending=False)\n",
    "\n",
    "        columns = ['estimator', 'min_score', 'mean_score', 'max_score', 'std_score']\n",
    "        columns = columns + [c for c in df.columns if c not in columns]\n",
    "\n",
    "        return df[columns]"
   ]
  },
  {
   "cell_type": "code",
   "execution_count": null,
   "metadata": {},
   "outputs": [],
   "source": [
    "#Choose the models and hyperparameter values for grid search\n",
    "\n",
    "#You can add or remove models here\n",
    "models = {\n",
    "    'LogisticRegression' : LogisticRegression(), \n",
    "    'CART' : DecisionTreeClassifier(),\n",
    "    'RandomForestClassifier': RandomForestClassifier(),\n",
    "    'AdaBoostClassifier': AdaBoostClassifier(),\n",
    "    'GradientBoostingClassifier': GradientBoostingClassifier(),\n",
    "}\n",
    "\n",
    "\n",
    "#####\n",
    "#PICK YOUR OWN HYPERPARAMETER VALUES!\n",
    "#####\n",
    "params = {\n",
    "    'LogisticRegression' : { 'C': [1, 100], 'penalty': ['l1', 'l2']},\n",
    "    'CART' : { 'max_depth' : [3, 5, 10] },\n",
    "    'RandomForestClassifier': { 'n_estimators': [10, 50], 'min_samples_leaf' : [10, 50] },\n",
    "    'AdaBoostClassifier':  { 'n_estimators': [10, 50] },\n",
    "    'GradientBoostingClassifier': { 'n_estimators': [10, 50], 'learning_rate': [0.8, 1.0]}"
   ]
  },
  {
   "cell_type": "code",
   "execution_count": null,
   "metadata": {
    "scrolled": false
   },
   "outputs": [],
   "source": [
    "#Run the model - note that this may take a while!\n",
    "\n",
    "#Define the models and parameters\n",
    "helper = EstimatorSelectionHelper(models, params)\n",
    "\n",
    "#Fit the models\n",
    "helper.fit(X_train, y_train, scoring='roc_auc')\n",
    "\n",
    "#Print the output and rank by mean AUC\n",
    "helper.score_summary(sort_by='mean_score')"
   ]
  },
  {
   "cell_type": "code",
   "execution_count": null,
   "metadata": {},
   "outputs": [],
   "source": []
  },
  {
   "cell_type": "code",
   "execution_count": null,
   "metadata": {},
   "outputs": [],
   "source": []
  }
 ],
 "metadata": {
  "kernelspec": {
   "display_name": "Python 3 (ipykernel)",
   "language": "python",
   "name": "python3"
  },
  "language_info": {
   "codemirror_mode": {
    "name": "ipython",
    "version": 3
   },
   "file_extension": ".py",
   "mimetype": "text/x-python",
   "name": "python",
   "nbconvert_exporter": "python",
   "pygments_lexer": "ipython3",
   "version": "3.9.13"
  }
 },
 "nbformat": 4,
 "nbformat_minor": 2
}
